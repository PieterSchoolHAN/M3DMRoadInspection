{
 "cells": [
  {
   "cell_type": "code",
   "execution_count": 2,
   "metadata": {},
   "outputs": [
    {
     "name": "stdout",
     "output_type": "stream",
     "text": [
      "c:\\Users\\jurri\\Desktop\\M3DMRoadInspection\n"
     ]
    }
   ],
   "source": [
    "import os\n",
    "import subprocess\n",
    "import sys\n",
    "\n",
    "root = os.getcwd()\n",
    "sys.path.append(root)\n",
    "print(root)"
   ]
  },
  {
   "cell_type": "code",
   "execution_count": 10,
   "metadata": {},
   "outputs": [],
   "source": [
    "ROOT = \"C:/Users/jurri/Desktop/M3DMRoadInspection\"\n",
    "YOLO = \"C:/Users/jurri/Desktop/M3DMRoadInspection/yolov7\"\n",
    "DATASET = r\"C:\\Users\\jurri\\Desktop\\M3DMRoadInspection\\yolov7\\seg\\crack-3\\Data.yaml\""
   ]
  },
  {
   "cell_type": "code",
   "execution_count": null,
   "metadata": {},
   "outputs": [
    {
     "name": "stdout",
     "output_type": "stream",
     "text": [
      "^C\n"
     ]
    }
   ],
   "source": [
    "WEIGHTS_PATH = f\"{YOLO}/best.pt\"\n",
    "\n",
    "!python {YOLO}/seg/segment/train.py --batch 1 \\\n",
    "--epochs 10 \\\n",
    "--data {DATASET} \\\n",
    "--weights {WEIGHTS_PATH} \\\n",
    "--device 0 \\\n",
    "--name custom"
   ]
  }
 ],
 "metadata": {
  "kernelspec": {
   "display_name": ".venv",
   "language": "python",
   "name": "python3"
  },
  "language_info": {
   "codemirror_mode": {
    "name": "ipython",
    "version": 3
   },
   "file_extension": ".py",
   "mimetype": "text/x-python",
   "name": "python",
   "nbconvert_exporter": "python",
   "pygments_lexer": "ipython3",
   "version": "3.12.7"
  }
 },
 "nbformat": 4,
 "nbformat_minor": 2
}
