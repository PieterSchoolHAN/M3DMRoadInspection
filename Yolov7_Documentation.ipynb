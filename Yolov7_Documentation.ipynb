{
 "cells": [
  {
  "cell_type": "markdown",
  "metadata": {},
  "source": [
    "## Documentation WongKinYiu/yolov7/tree/u7 and GitJvG/yolov7/tree/u7\n",
    "Yolo v7 model\n",
    "### Voorbereiding\n",
    "Om het getrainde model te kunnen gebruiken, moet een compatibele python versie geïnstalleerd zijn en moet Git als PATH environment variable beschikbaar zijn.\n",
    "- Python 3.12\n",
    "- Git, geregistreerd als Windows PATH environment variable\n",
    "Om yolov7 en benodigde libraries te installeren kan setup/setup.bat gebruikt worden in de doelbestemming. Plaats het .bat bestand in de doelbestemming en dubbelklik het script. Kies vervolgens voor standard Yolov7 of een aangepaste Yolov7. De aangepaste repository heeft enkele functies gesplitst in meerdere functies om het makkelijker te integreren met een UI en om onnodige acties te voorkomen.\n",
    "Het clonen van de benodigde repositories, het aanmaken van een python virtual environment en het installeren van de benodigde modules kan ook worden gedaan met behulp van de setup/setup_yolov7.bat, beschikbaar op de github repository."
  ]
  },
  {
   "cell_type": "markdown",
   "metadata": {},
   "source": [
    "## Trainen\n",
    "De training module van Yolo v7 is geschreven als een command line tool, vandaar is het makkelijker om deze te gebruiken vanaf de commandline of middels jupyter magic commands.\n",
    "\n",
    "Om nieuwe weights te trainen kan de volgende code gebruikt worden, de belangrijkste parameters worden toegelicht:\n",
    "\n",
    "- epochs: Het aantal keren dat het model de dataset processed, hoe hoger hoe beter het model zich kan afstemmen op de data. Te veel epochs kan leiden tot overfitting.\n",
    "- data: Het pad naar de data.yaml, e.g. `root/dataset/data.yaml`\n",
    "- weights: Het pad naar de weights, e.g. `root/yolov7/runs/train-seg/custom/weights/best.pt`\n",
    "- device: De hardware dat het model gebruikt. 0 voor GPU 1, cpu om de cpu van het apparaat te gebruiken. De GPU moet een nvidia GPU met cuda-cores zijn.\n",
    "- project: De directory waarin de resultaten worden opgeslagen, e.g. `C:\\yolov7`\n",
    "- name: De naam waaronder de resultaten worden opgeslagen, e.g. `custom` -> `{project}/custom/{filename}`\n",
    "- exist-ok: Wanneer deze parameter wordt gebruikt wordt de name folder opniew gebruikt als deze al bestaat, anders wordt geitereert: `{project}/custom2/{filename}`\n",
    "- patience: Activeert earlystopping, het bijgevoegde getal is het aantal epochs zonder verbetering voordat de training automatisch stopt. \n"
   ]
  },
  {
   "cell_type": "code",
   "execution_count": null,
   "metadata": {},
   "outputs": [],
   "source": [
    "\"\"\"Training met jupyter magic commands\"\"\"\n",
    "\n",
    "%cd yolov7\n",
    "\n",
    "!python yolov7/seg/segment/train.py --batch 1 \\\n",
    "--epochs 300 \\\n",
    "--data {DATASET} \\\n",
    "--weights {WEIGHTS_PATH} \\\n",
    "--device 0 \\\n",
    "--project custom \\\n",
    "--name custom \\\n",
    "--exist-ok\n",
    "--patience 30\n",
    "\n",
    "\n",
    "\n",
    "\"\"\"commandline equivalent:\n",
    "cd yolov7\n",
    "python yolov7/seg/segment/train.py --data \"C:..\\dataset\\data.yaml\" --weights \"C:..\\weights.pt\" --device 0 --name custom --project custom --exist-ok --patience 30\n",
    "\n",
    "\"\"\""
   ]
  },
  {
   "cell_type": "markdown",
   "metadata": {},
   "source": [
    "## Inference\n",
    "Om het model afbeelding te laten annoteren kan de volgende code gebruikt worden met de volgende parameters:\n",
    "\n",
    "- weights: Het pad naar de weights, e.g. `root/yolov7/runs/train-seg/custom/weights/best.pt`\n",
    "- conf: minimum confidence threshold. Een lagere threshold leidt tot meer detecties en een lagere accuraatheid.\n",
    "- source: Het pad naar een afbeelding of `0` om de webcam als source te gebruiken"
   ]
  },
  {
   "cell_type": "code",
   "execution_count": null,
   "metadata": {},
   "outputs": [],
   "source": [
    "%cd {ROOT}/yolov7\n",
    "!python segment/predict.py \\\n",
    "--weights {ROOT}/yolov7/weights/best.pt \\\n",
    "--data dataset/data.yaml\n",
    "--conf-thres 0.35 \\\n",
    "--iou_thres 0.35 \\\n",
    "--source {Dataset}/test/images \\\n",
    "--project OutputDirectory \\\n",
    "--name OutputFolder \\\n",
    "--exist-ok \\\n",
    "\n",
    "%cd {ROOT}"
   ]
  },
  {
   "cell_type": "markdown",
   "metadata": {},
   "source": [
    "## Aangepaste modules t.o.v. originele repository\n",
    "\n",
    "Om inference flexibeler te maken is een custom-predict module gemaakt, hierin zijn het laden van het model en de inference gesplitst. Hierdoor is het mogelijk om resultaten in realtime weer te geven en is het voor een website of app mogelijk om het model éém keer te initializeren tijdens opstart en vervolgens te hergebruiken.\n",
    "\n",
    "Het gebruik van de aangepaste module werkt grotendeeels hetzelfde als de normale module behalve dat het model en device met behulp van een nieuwe functie worden geladen.\n",
    "Daarnaast zijn er hooks toegevoegd waardoor de GUI de processing voortgang kan tracken en kunnen resultaten optioneel gesplitst worden op detcties/geen detecties."
   ]
  },
  {
   "cell_type": "code",
   "execution_count": null,
   "metadata": {},
   "outputs": [],
   "source": [
    "from yolov7.seg.segment.modular_predict import run, load_model\n",
    "\n",
    "model, device = load_model(\n",
    "    weights=r\"yolov7\\weights\\best.pt\",\n",
    "    data = r\"dataset\\data.yaml\",\n",
    "    device='',\n",
    "    update=False\n",
    ")\n",
    "\n",
    "run(\n",
    "    model = model, # Model van de bovenstaande functie\n",
    "    device = device, # Device van de bovenstaande functie\n",
    "    source=\"/source\", # Afbeelding, video, folder of `0` voor webcam/streaming\n",
    "    conf_thres=0.35, # Minimum confidence voor detectie\n",
    "    iou_thres=0.35, # Threshold voor het combineren van bounding boxes, een hogere threshold zorgt voor meer clustering en minder apparate bounding boxes\n",
    "    nosave=False, # Output wel/niet opslaan\n",
    "    project=\"\", # Directory waarin de 'name' folder komt\n",
    "    name='dir', # Directory waarin de inference resultaten komen. Het volledige pad is {project}/{name}/file.png\n",
    "    exist_ok=True, # True: gebruikt bestaande name folder als deze bestaat, False: itereert wanneer {name} al bestaat, ouput wordt dan: {project}/{name}2/file.png\n",
    "    )"
   ]
  }
 ],
 "metadata": {
  "kernelspec": {
   "display_name": ".venv",
   "language": "python",
   "name": "python3"
  },
  "language_info": {
   "codemirror_mode": {
    "name": "ipython",
    "version": 3
   },
   "file_extension": ".py",
   "mimetype": "text/x-python",
   "name": "python",
   "nbconvert_exporter": "python",
   "pygments_lexer": "ipython3",
   "version": "3.12.7"
  }
 },
 "nbformat": 4,
 "nbformat_minor": 2
}
